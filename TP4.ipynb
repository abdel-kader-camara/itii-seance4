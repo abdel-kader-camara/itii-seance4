{
 "cells": [
  {
   "cell_type": "raw",
   "metadata": {},
   "source": [
    "Ex 1: Racine quatrième\n",
    "\n",
    "Pour un nombre réel a positif, il existe un unique réel b positif tel que b^n = a. Ce réel est appelé la racine n-ième de a (ou racine n-ième principale de a).\n",
    "\n",
    "    Donner la fonction python racine(b,n,e) qui donnée la racine n-eme de b avec une précision de e"
   ]
  },
  {
   "cell_type": "code",
   "execution_count": 2,
   "metadata": {},
   "outputs": [
    {
     "name": "stdout",
     "output_type": "stream",
     "text": [
      "0.02\n",
      "0.03\n",
      "0.04\n",
      "0.05\n",
      "0.06\n",
      "0.07\n",
      "0.08\n",
      "0.09\n",
      "0.1\n",
      "0.11\n",
      "0.12\n",
      "0.13\n",
      "0.14\n",
      "0.15\n",
      "0.16\n",
      "0.17\n",
      "0.18\n",
      "0.19\n",
      "0.2\n",
      "0.21\n",
      "0.22\n",
      "0.23\n",
      "0.24\n",
      "0.25\n",
      "0.26\n",
      "0.27\n",
      "0.28\n",
      "0.29\n",
      "0.3\n",
      "0.31\n",
      "0.32\n",
      "0.33\n",
      "0.34\n",
      "0.35\n",
      "0.36\n",
      "0.37\n",
      "0.38\n",
      "0.39\n",
      "0.4\n",
      "0.41\n",
      "0.42\n",
      "0.43\n",
      "0.44\n",
      "0.45\n",
      "0.46\n",
      "0.47\n",
      "0.48\n",
      "0.49\n",
      "0.5\n",
      "0.51\n",
      "0.52\n",
      "0.53\n",
      "0.54\n",
      "0.55\n",
      "0.56\n",
      "0.57\n",
      "0.58\n",
      "0.59\n",
      "0.6\n",
      "0.61\n",
      "0.62\n",
      "0.63\n",
      "0.64\n",
      "0.65\n",
      "0.66\n",
      "0.67\n",
      "0.68\n",
      "0.69\n",
      "0.7\n",
      "0.71\n",
      "0.72\n",
      "0.73\n",
      "0.74\n",
      "0.75\n",
      "0.76\n",
      "0.77\n",
      "0.78\n",
      "0.79\n",
      "0.8\n",
      "0.81\n",
      "0.82\n",
      "0.83\n",
      "0.84\n",
      "0.85\n",
      "0.86\n",
      "0.87\n",
      "0.88\n",
      "0.89\n",
      "0.9\n",
      "0.91\n",
      "0.92\n",
      "0.93\n",
      "0.94\n",
      "0.95\n",
      "0.96\n",
      "0.97\n",
      "0.98\n",
      "0.99\n",
      "1.0\n",
      "1.01\n",
      "1.02\n",
      "1.03\n",
      "1.04\n",
      "1.05\n",
      "1.06\n",
      "1.07\n",
      "1.08\n",
      "1.09\n",
      "1.1\n",
      "1.11\n",
      "1.12\n",
      "1.13\n",
      "1.14\n",
      "1.15\n",
      "1.16\n",
      "1.17\n",
      "1.18\n",
      "1.19\n",
      "1.2\n",
      "1.21\n",
      "1.22\n",
      "1.23\n",
      "1.24\n",
      "1.25\n",
      "1.26\n",
      "1.27\n",
      "1.28\n",
      "1.29\n",
      "1.3\n",
      "1.31\n",
      "1.32\n",
      "1.33\n",
      "1.34\n",
      "1.35\n",
      "1.36\n",
      "1.37\n",
      "1.38\n",
      "1.39\n",
      "1.4\n",
      "1.41\n",
      "1.42\n",
      "1.43\n",
      "1.44\n",
      "1.45\n",
      "1.46\n",
      "1.47\n",
      "1.48\n",
      "1.49\n",
      "1.5\n",
      "1.51\n",
      "1.52\n",
      "1.53\n",
      "1.54\n",
      "1.55\n",
      "1.56\n",
      "1.57\n",
      "1.58\n",
      "1.59\n",
      "1.6\n",
      "1.61\n",
      "1.62\n",
      "1.63\n",
      "1.64\n",
      "1.65\n",
      "1.66\n",
      "1.67\n",
      "1.68\n",
      "1.69\n",
      "1.7\n",
      "1.71\n",
      "1.72\n",
      "1.73\n",
      "1.74\n",
      "1.75\n",
      "1.76\n",
      "1.77\n",
      "1.78\n",
      "1.79\n",
      "1.8\n",
      "1.81\n",
      "1.82\n",
      "1.83\n",
      "1.84\n",
      "1.85\n",
      "1.86\n",
      "1.87\n",
      "1.88\n",
      "1.89\n",
      "1.9\n",
      "1.91\n",
      "1.92\n",
      "1.93\n",
      "1.94\n",
      "1.95\n",
      "1.96\n",
      "1.97\n",
      "1.98\n",
      "1.99\n",
      "2.0\n"
     ]
    }
   ],
   "source": [
    "import numpy as np\n",
    "def racine(b,n,e):\n",
    "    r = e\n",
    "    while r**n < b:\n",
    "        r+=e\n",
    "        print(np.round(r,2))\n",
    "\n",
    "racine(16,4,0.01)"
   ]
  },
  {
   "cell_type": "raw",
   "metadata": {},
   "source": [
    "Déterminer la partie réelle et imaginaire de l’expression : (1+i√3)^20 / 1+i"
   ]
  },
  {
   "cell_type": "code",
   "execution_count": 3,
   "metadata": {},
   "outputs": [
    {
     "name": "stdout",
     "output_type": "stream",
     "text": [
      "(191902.72689933598+716190.7268993348j)\n",
      "191902.72689933598\n",
      "716190.7268993348\n"
     ]
    }
   ],
   "source": [
    "from math import sqrt\n",
    "\n",
    "nbr_complex= 1j\n",
    "x = ((1 + nbr_complex * sqrt(3))**20/(1 + nbr_complex))\n",
    "print ((1 + nbr_complex * sqrt(3))**20/(1 + nbr_complex))\n",
    "print (x.real) # Afficher la Partie réelle\n",
    "print (x.imag) # Afficher la Partie imaginaire"
   ]
  },
  {
   "cell_type": "raw",
   "metadata": {},
   "source": [
    "Ex3 : Introduction Avant de pourvoir utiliser des variables symboliques, il faut les déclarer comme symboles:"
   ]
  },
  {
   "cell_type": "code",
   "execution_count": 5,
   "metadata": {},
   "outputs": [
    {
     "data": {
      "text/latex": [
       "$\\displaystyle \\frac{\\varepsilon}{4} + x^{2} + 4 x + 4 y$"
      ],
      "text/plain": [
       "\\varepsilon/4 + x**2 + 4*x + 4*y"
      ]
     },
     "execution_count": 5,
     "metadata": {},
     "output_type": "execute_result"
    }
   ],
   "source": [
    "import sympy as sp\n",
    "x = sp.Symbol(\"x\")# definit le symbole x\n",
    "y = sp.Symbol(\"y\", real=True)# définit la variable réelle y\n",
    "e = sp.Symbol(r\"\\varepsilon\", real=True, positive=True)# définit epsilon positif\n",
    "\n",
    "x + 2*y + e/4 + x**2 + 3*x + 2*y"
   ]
  },
  {
   "cell_type": "raw",
   "metadata": {},
   "source": [
    "Lire la doc de la fonction solveet l’utiliser pour calculer les racines d’un polynôme général de degré deux, puis de degré trois"
   ]
  },
  {
   "cell_type": "code",
   "execution_count": 13,
   "metadata": {},
   "outputs": [
    {
     "data": {
      "image/png": "[encoded data removed]",
      "text/latex": [
       "$\\displaystyle \\left[ -1, \\  \\frac{4}{7}\\right]$"
      ],
      "text/plain": [
       "[-1, 4/7]"
      ]
     },
     "execution_count": 13,
     "metadata": {},
     "output_type": "execute_result"
    }
   ],
   "source": [
    "import sympy as sp\n",
    "from sympy import solve\n",
    "x = sp.Symbol(\"x\")# definit le symbole x\n",
    "y = sp.Symbol(\"y\", real=True)# définit la variable réelle y\n",
    "e = sp.Symbol(r\"\\varepsilon\", real=True, positive=True)# définit epsilon positif\n",
    "\n",
    "x + 2*y + e/4 + x**2 + 3*x + 2*y\n",
    "init_printing()\n",
    "solve(7*x*x+3*x-4,x)"
   ]
  },
  {
   "cell_type": "code",
   "execution_count": null,
   "metadata": {},
   "outputs": [],
   "source": []
  }
 ],
 "metadata": {
  "kernelspec": {
   "display_name": "Python 3",
   "language": "python",
   "name": "python3"
  },
  "language_info": {
   "codemirror_mode": {
    "name": "ipython",
    "version": 3
   },
   "file_extension": ".py",
   "mimetype": "text/x-python",
   "name": "python",
   "nbconvert_exporter": "python",
   "pygments_lexer": "ipython3",
   "version": "3.7.6"
  }
 },
 "nbformat": 4,
 "nbformat_minor": 4
}
